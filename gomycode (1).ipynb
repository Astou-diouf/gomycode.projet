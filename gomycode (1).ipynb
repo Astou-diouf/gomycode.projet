{
 "cells": [
  {
   "cell_type": "code",
   "execution_count": 3,
   "id": "173ef3a3-5cda-4034-8bc9-a3166d8fa880",
   "metadata": {},
   "outputs": [
    {
     "name": "stdout",
     "output_type": "stream",
     "text": [
      "Requirement already satisfied: pdf2docx in c:\\users\\hp\\anaconda3\\lib\\site-packages (0.5.8)\n",
      "Requirement already satisfied: moviepy in c:\\users\\hp\\anaconda3\\lib\\site-packages (1.0.3)\n",
      "Requirement already satisfied: PyMuPDF>=1.19.0 in c:\\users\\hp\\anaconda3\\lib\\site-packages (from pdf2docx) (1.24.7)\n",
      "Requirement already satisfied: python-docx>=0.8.10 in c:\\users\\hp\\anaconda3\\lib\\site-packages (from pdf2docx) (1.1.2)\n",
      "Requirement already satisfied: fonttools>=4.24.0 in c:\\users\\hp\\anaconda3\\lib\\site-packages (from pdf2docx) (4.25.0)\n",
      "Requirement already satisfied: numpy>=1.17.2 in c:\\users\\hp\\anaconda3\\lib\\site-packages (from pdf2docx) (1.26.4)\n",
      "Requirement already satisfied: opencv-python-headless>=4.5 in c:\\users\\hp\\anaconda3\\lib\\site-packages (from pdf2docx) (4.10.0.84)\n",
      "Requirement already satisfied: fire>=0.3.0 in c:\\users\\hp\\anaconda3\\lib\\site-packages (from pdf2docx) (0.6.0)\n",
      "Requirement already satisfied: decorator<5.0,>=4.0.2 in c:\\users\\hp\\anaconda3\\lib\\site-packages (from moviepy) (4.4.2)\n",
      "Requirement already satisfied: tqdm<5.0,>=4.11.2 in c:\\users\\hp\\anaconda3\\lib\\site-packages (from moviepy) (4.65.0)\n",
      "Requirement already satisfied: requests<3.0,>=2.8.1 in c:\\users\\hp\\anaconda3\\lib\\site-packages (from moviepy) (2.31.0)\n",
      "Requirement already satisfied: proglog<=1.0.0 in c:\\users\\hp\\anaconda3\\lib\\site-packages (from moviepy) (0.1.10)\n",
      "Requirement already satisfied: imageio<3.0,>=2.5 in c:\\users\\hp\\anaconda3\\lib\\site-packages (from moviepy) (2.33.1)\n",
      "Requirement already satisfied: imageio-ffmpeg>=0.2.0 in c:\\users\\hp\\anaconda3\\lib\\site-packages (from moviepy) (0.5.1)\n",
      "Requirement already satisfied: six in c:\\users\\hp\\anaconda3\\lib\\site-packages (from fire>=0.3.0->pdf2docx) (1.16.0)\n",
      "Requirement already satisfied: termcolor in c:\\users\\hp\\anaconda3\\lib\\site-packages (from fire>=0.3.0->pdf2docx) (2.4.0)\n",
      "Requirement already satisfied: pillow>=8.3.2 in c:\\users\\hp\\anaconda3\\lib\\site-packages (from imageio<3.0,>=2.5->moviepy) (10.2.0)\n",
      "Requirement already satisfied: setuptools in c:\\users\\hp\\anaconda3\\lib\\site-packages (from imageio-ffmpeg>=0.2.0->moviepy) (68.2.2)\n",
      "Requirement already satisfied: PyMuPDFb==1.24.6 in c:\\users\\hp\\anaconda3\\lib\\site-packages (from PyMuPDF>=1.19.0->pdf2docx) (1.24.6)\n",
      "Requirement already satisfied: lxml>=3.1.0 in c:\\users\\hp\\anaconda3\\lib\\site-packages (from python-docx>=0.8.10->pdf2docx) (4.9.3)\n",
      "Requirement already satisfied: typing-extensions>=4.9.0 in c:\\users\\hp\\anaconda3\\lib\\site-packages (from python-docx>=0.8.10->pdf2docx) (4.9.0)\n",
      "Requirement already satisfied: charset-normalizer<4,>=2 in c:\\users\\hp\\anaconda3\\lib\\site-packages (from requests<3.0,>=2.8.1->moviepy) (2.0.4)\n",
      "Requirement already satisfied: idna<4,>=2.5 in c:\\users\\hp\\anaconda3\\lib\\site-packages (from requests<3.0,>=2.8.1->moviepy) (3.4)\n",
      "Requirement already satisfied: urllib3<3,>=1.21.1 in c:\\users\\hp\\anaconda3\\lib\\site-packages (from requests<3.0,>=2.8.1->moviepy) (2.0.7)\n",
      "Requirement already satisfied: certifi>=2017.4.17 in c:\\users\\hp\\anaconda3\\lib\\site-packages (from requests<3.0,>=2.8.1->moviepy) (2024.2.2)\n",
      "Requirement already satisfied: colorama in c:\\users\\hp\\anaconda3\\lib\\site-packages (from tqdm<5.0,>=4.11.2->moviepy) (0.4.6)\n",
      "Note: you may need to restart the kernel to use updated packages.\n"
     ]
    }
   ],
   "source": [
    "pip install pdf2docx moviepy"
   ]
  },
  {
   "cell_type": "code",
   "execution_count": null,
   "id": "5016e61c-43a6-46ec-8810-23b903fa02b2",
   "metadata": {},
   "outputs": [],
   "source": [
    "import tkinter as tk\n",
    "from tkinter import filedialog, messagebox\n",
    "from pdf2docx import Converter\n",
    "from moviepy.editor import VideoFileClip\n",
    "\n",
    "def convert_pdf_to_word():\n",
    "    fichier_pdf = filedialog.askopenfilename(title=\"Sélectionner un fichier PDF », filetypes=[(« Fichiers PDF », « *.pdf »)])\n",
    "    if fichier_pdf:\n",
    "        fichier_word = filedialog.asksaveasfilename(title=\"Enregistrer le fichier Word », defaultextension= ».docx », filetypes=[(« Fichiers Word », \"*.docx\")])\n",
    "        if fichier_word:\n",
    "            try:\n",
    "                cv = Converter(fichier_pdf)\n",
    "                cv.convert(fichier_word)\n",
    "                cv.close()\n",
    "                messagebox.Afficher_infos(\"Succes\", f\"Successfully converted {fichier_pdf} to {fichier_word}\")\n",
    "            except Exception as e:\n",
    "                messagebox.afficher_erreur(\"Erreur\", f\"Failed to convert PDF to Word: {str(e)}\")\n",
    "\n",
    "def convert_mp4_to_mp3():\n",
    "    fichier_mp4 = filedialog.askopenfilename(title=\"Sélectionner un fichier MP4 », filetypes=[(« Fichiers MP4 », « *.mp4 »)])\n",
    "    if fichier_mp4:\n",
    "        fichier_mp3 = filedialog.asksaveasfilename(title=\"Enregistrer le fichier MP3 », defaultextension= ».mp3 », filetypes=[(« Fichiers MP3 », « *.mp3 »)])\n",
    "        if fichier_mp3:\n",
    "            try:\n",
    "                video = VideoFichierClip(fichier_mp4)\n",
    "                video.audio.write_audiofile(fichier_mp3)\n",
    "                messagebox.Afficher_infos(\"Succes\", f\"Successfully converted {fichier_mp4} to {fichier_mp3}\")\n",
    "            except Exception as e:\n",
    "                messagebox.afficher_erreur(\"Erreur\", f\"Failed to convert MP4 to MP3: {str(e)}\")\n",
    "\n",
    "window = tk.Tk()\n",
    "window.title(\"Convertisseur de fichiers\")\n",
    "window.geometry(\"300x150\")\n",
    "\n",
    "btn_pdf_to_word = tk.Button(window, text=\"Convert PDF to Word\", command=convert_pdf_to_word)\n",
    "btn_pdf_to_word.pack(pady=10)\n",
    "\n",
    "btn_mp4_to_mp3 = tk.Button(window, text=\"Convert MP4 to MP3\", command=convert_mp4_to_mp3)\n",
    "btn_mp4_to_mp3.pack(pady=10)\n",
    "\n",
    "window.mainloop()\n"
   ]
  },
  {
   "cell_type": "code",
   "execution_count": null,
   "id": "236191f9-72da-4656-a6d0-ee761ae6d6a1",
   "metadata": {},
   "outputs": [],
   "source": []
  }
 ],
 "metadata": {
  "kernelspec": {
   "display_name": "Python 3 (ipykernel)",
   "language": "python",
   "name": "python3"
  },
  "language_info": {
   "codemirror_mode": {
    "name": "ipython",
    "version": 3
   },
   "file_extension": ".py",
   "mimetype": "text/x-python",
   "name": "python",
   "nbconvert_exporter": "python",
   "pygments_lexer": "ipython3",
   "version": "3.11.7"
  }
 },
 "nbformat": 4,
 "nbformat_minor": 5
}
